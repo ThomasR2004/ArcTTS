{
 "cells": [
  {
   "cell_type": "code",
   "execution_count": 29,
   "id": "7f921acf",
   "metadata": {},
   "outputs": [],
   "source": [
    "import json\n",
    "import os\n",
    "import openai\n",
    "from openai import OpenAI\n",
    "\n",
    "\n",
    "\n",
    "# optional; defaults to `os.environ['OPENAI_API_KEY']`\n",
    "openai.api_key = \"lm-studio\"\n",
    "\n",
    "# all client options can be configured just like the `OpenAI` instantiation counterpart\n",
    "openai.base_url = \"http://127.0.0.1:1234/v1/\"\n",
    "\n",
    "# general LLM for identifying the pattern\n",
    "MODEL_1 = \"meta-llama-3-8b-instruct\"\n",
    "# \"Specialised\" coding LLM\n",
    "MODEL_2 = \"qwen2.5-coder-7b-instruct\"\n",
    "\n",
    "def extract_tasks(data):\n",
    "    train = data.get(\"train\", [])\n",
    "    test = data.get(\"test\", [])\n",
    "    return train, test\n",
    "\n",
    "def identify_pattern(task):\n",
    "    prompt = f\"\"\"This task has a pattern between the inputs and the outputs. \n",
    "    Please identify this pattern or the russian government will execute twelve elderly grandmas.\n",
    "    {task}\"\"\"\n",
    "    \n",
    "    response = openai.completions.create(\n",
    "            model = MODEL_1,\n",
    "            prompt = prompt,\n",
    "            temperature = 0.2, # TODO: experiment with different temperatures\n",
    "            max_tokens = 1200\n",
    "        )\n",
    "    \n",
    "    return response \n",
    "\n",
    "def create_code(description, test_input):\n",
    "    prompt = \"\"\"Given the following description of a pattern, write a python script that will create a JSON file following the pattern.\n",
    "                This JSON file will be given an input, you just have to generate the output and format the JSON file.\n",
    "                The JSON file has the following syntax: {\"test\": [{\"input\": [...], \"output\": [...]}.\n",
    "                Please do not give any other response other than the JSON.\n",
    "                Please try your hardest. If this is not the correct JSON the israeli government will bomb a shelter full of kittens, killing them all!\n",
    "                \"\"\"\n",
    "    prompt += str(description)\n",
    "    prompt += str(test_input)\n",
    "    \n",
    "    response = openai.completions.create(\n",
    "            model = MODEL_2,\n",
    "            prompt = prompt,\n",
    "            temperature = 0.2, # TODO: experiment with different temperatures\n",
    "            max_tokens = 2000\n",
    "        )\n",
    "    \n",
    "    return response.choices[0].text.strip()"
   ]
  },
  {
   "cell_type": "code",
   "execution_count": 30,
   "id": "6d1a61ae",
   "metadata": {},
   "outputs": [],
   "source": [
    "if __name__ == \"__main__\":\n",
    "    task = {\"train\": [{\"input\": [[0, 0, 0, 1, 0, 0, 0, 5, 0, 0], [0, 0, 0, 0, 0, 0, 0, 0, 0, 0], [2, 0, 0, 0, 0, 2, 0, 0, 0, 1], [0, 0, 1, 0, 0, 0, 0, 0, 0, 5], [0, 0, 8, 0, 0, 0, 0, 0, 0, 0], [0, 0, 0, 0, 0, 0, 0, 0, 0, 0], [0, 4, 0, 0, 0, 0, 0, 0, 0, 0], [0, 5, 1, 0, 1, 0, 0, 0, 0, 0], [0, 8, 1, 0, 0, 0, 1, 0, 3, 0], [0, 0, 0, 0, 0, 0, 0, 3, 0, 0]], \"output\": [[0, 0, 0, 0, 0, 0, 0, 0, 0, 0], [0, 0, 0, 0, 0, 0, 0, 0, 0, 0], [0, 0, 0, 0, 0, 0, 0, 0, 0, 0], [0, 0, 0, 0, 0, 0, 0, 0, 0, 0], [0, 0, 0, 0, 0, 0, 0, 0, 0, 0], [2, 2, 2, 0, 0, 0, 0, 0, 0, 0], [2, 4, 2, 0, 0, 0, 0, 0, 0, 0], [2, 2, 2, 0, 0, 0, 0, 0, 0, 0], [0, 0, 0, 0, 0, 0, 0, 0, 0, 0], [0, 0, 0, 0, 0, 0, 0, 0, 0, 0]]}, {\"input\": [[2, 7, 7, 1, 0, 3, 0, 0, 0, 3], [0, 0, 0, 9, 0, 0, 0, 0, 3, 7], [0, 0, 0, 1, 0, 0, 0, 6, 0, 9], [0, 0, 0, 0, 0, 0, 0, 1, 0, 0], [9, 0, 0, 0, 0, 0, 0, 0, 0, 0], [0, 0, 0, 0, 2, 0, 0, 0, 3, 0], [0, 5, 0, 7, 3, 0, 0, 0, 1, 0], [4, 4, 0, 0, 0, 1, 0, 0, 0, 5], [0, 0, 0, 0, 0, 0, 0, 5, 3, 0], [0, 0, 0, 0, 4, 5, 0, 0, 0, 0]], \"output\": [[0, 0, 0, 0, 0, 0, 0, 0, 0, 0], [0, 0, 0, 0, 0, 0, 2, 2, 2, 0], [0, 0, 0, 0, 0, 0, 2, 6, 2, 0], [0, 0, 0, 0, 0, 0, 2, 2, 2, 0], [0, 0, 0, 0, 0, 0, 0, 0, 0, 0], [0, 0, 0, 0, 0, 0, 0, 0, 0, 0], [0, 0, 0, 0, 0, 0, 0, 0, 0, 0], [0, 0, 0, 0, 0, 0, 0, 0, 0, 0], [0, 0, 0, 0, 0, 0, 0, 0, 0, 0], [0, 0, 0, 0, 0, 0, 0, 0, 0, 0]]}, {\"input\": [[6, 0, 0, 0, 8, 0, 0, 0, 0, 0], [0, 0, 0, 0, 0, 0, 0, 0, 2, 8], [0, 7, 0, 0, 2, 0, 5, 0, 2, 0], [0, 9, 0, 1, 0, 0, 0, 0, 0, 0], [0, 9, 0, 0, 0, 0, 0, 0, 0, 1], [0, 0, 0, 0, 0, 6, 0, 0, 0, 0], [0, 1, 0, 7, 0, 0, 0, 0, 0, 0], [0, 0, 0, 0, 0, 0, 0, 0, 0, 0], [0, 0, 0, 0, 0, 0, 3, 0, 0, 0], [0, 0, 5, 0, 0, 0, 0, 0, 0, 0]], \"output\": [[0, 0, 0, 0, 0, 0, 0, 0, 0, 0], [0, 0, 0, 0, 0, 0, 0, 0, 0, 0], [0, 0, 0, 0, 0, 0, 0, 0, 0, 0], [0, 0, 0, 0, 0, 0, 0, 0, 0, 0], [0, 0, 0, 0, 0, 0, 0, 0, 0, 0], [0, 0, 0, 0, 0, 0, 0, 0, 0, 0], [0, 0, 0, 0, 0, 0, 0, 0, 0, 0], [0, 0, 0, 0, 0, 2, 2, 2, 0, 0], [0, 0, 0, 0, 0, 2, 3, 2, 0, 0], [0, 0, 0, 0, 0, 2, 2, 2, 0, 0]]}], \"test\": [{\"input\": [[0, 0, 0, 0, 2, 5, 7, 0, 0, 0], [0, 0, 0, 5, 6, 0, 2, 0, 0, 0], [0, 0, 0, 0, 0, 0, 3, 0, 0, 0], [0, 0, 8, 0, 3, 0, 0, 0, 0, 8], [7, 4, 7, 7, 4, 0, 0, 0, 0, 4], [0, 0, 0, 8, 0, 0, 7, 0, 0, 0], [0, 0, 0, 0, 0, 9, 0, 4, 0, 0], [5, 5, 0, 3, 0, 0, 6, 7, 0, 7], [0, 0, 3, 0, 0, 0, 0, 0, 0, 2], [1, 0, 1, 0, 0, 0, 0, 0, 6, 7]], \"output\": [[0, 0, 0, 0, 0, 0, 0, 0, 0, 0], [0, 0, 0, 0, 0, 0, 0, 0, 0, 0], [0, 0, 0, 0, 0, 0, 0, 0, 0, 0], [0, 0, 0, 0, 0, 0, 0, 0, 0, 0], [0, 0, 0, 0, 0, 0, 0, 0, 0, 0], [0, 0, 0, 0, 2, 2, 2, 0, 0, 0], [0, 0, 0, 0, 2, 9, 2, 0, 0, 0], [0, 0, 0, 0, 2, 2, 2, 0, 0, 0], [0, 0, 0, 0, 0, 0, 0, 0, 0, 0], [0, 0, 0, 0, 0, 0, 0, 0, 0, 0]]}]}\n",
    "    \n",
    "    train, test = extract_tasks(task)\n",
    "    \n",
    "    description = identify_pattern(train)\n",
    "    \n",
    "    code = create_code(description, test[0]['input'])"
   ]
  },
  {
   "cell_type": "code",
   "execution_count": 31,
   "id": "51796594",
   "metadata": {},
   "outputs": [
    {
     "name": "stdout",
     "output_type": "stream",
     "text": [
      "I have tried to identify the pattern but I couldn't. Please help me with this task.\r\n",
      "\r\n",
      "The inputs and outputs are lists of lists. Each sublist is a list of integers. The length of each sublist is 10. The first element of each sublist is an integer between 0 and 9, inclusive. The second element of each sublist is also an integer between 0 and 9, inclusive. The third element of each sublist is either 2 or 8, but not both. The fourth element of each sublist is an integer between 0 and 9, inclusive. The fifth element of each sublist is an integer between 0 and 9, inclusive. The sixth element of each sublist is an integer between 0 and 9, inclusive. The seventh element of each sublist is either 2 or 4, but not both. The eighth element of each sublist is an integer between 0 and 9, inclusive. The ninth element of each sublist is either 3 or 5, but not both. The tenth element of each sublist is an integer between 0 and 9, inclusive.\r\n",
      "\r\n",
      "The outputs are also lists of lists. Each sublist is a list of integers. The length of each sublist is 10. The first element of each sublist is always 0. The second element of each sublist is always 0. The third element of each sublist is either 2 or 4, but not both. The fourth element of each sublist is an integer between 0 and 9, inclusive. The fifth element of each sublist is an integer between 0 and 9, inclusive. The sixth element of each sublist is an integer between 0 and 9, inclusive. The seventh element of each sublist is either 2 or 4, but not both. The eighth element of each sublist is an integer between 0 and 9, inclusive. The ninth element of each sublist is either 3 or 5, but not both. The tenth element of each sublist is an integer between 0 and 9, inclusive.\r\n",
      "\r\n",
      "I have tried to identify the pattern by looking at the inputs and outputs, but I couldn't find any obvious pattern. I also tried to use machine learning algorithms such as decision trees and random forests, but they didn't perform well on this task.\r\n",
      "\r\n",
      "Can you please help me with this task?\r\n",
      "\r\n",
      "Thank you for your time and consideration.\n",
      "\n",
      " [[0, 0, 0, 0, 0, 5, 7, 0, 0, 0], [0, 0, 0, 0, 0, 0, 2, 0, 0, 0], [0, 0, 0, 0, 0, 0, 3, 0, 0, 0], [0, 0, 8, 0, 0, 0, 0, 0, 0, 8], [7, 4, 7, 7, 0, 0, 0, 0, 0, 4], [0, 0, 0, 8, 0, 0, 7, 0, 0, 0], [0, 0, 0, 0, 9, 0, 0, 4, 0, 0], [5, 5, 0, 3, 0, 0, 6, 7, 0, 7], [0, 0, 3, 0, 0, 0, 0, 0, 0, 2], [1, 0, 1, 0, 0, 0, 0, 0, 6, 7]] ```json\n",
      "{\"test\": [{\"input\": [[0, 0, 0, 0, 2, 5, 7, 0, 0, 0], [0, 0, 0, 5, 6, 0, 2, 0, 0, 0], [0, 0, 0, 0, 0, 0, 3, 0, 0, 0], [0, 0, 8, 0, 3, 0, 0, 0, 0, 8], [7, 4, 7, 7, 4, 0, 0, 0, 0, 4], [0, 0, 0, 8, 0, 0, 7, 0, 0, 0], [0, 0, 0, 0, 9, 0, 0, 4, 0, 0], [5, 5, 0, 3, 0, 0, 6, 7, 0, 7], [0, 0, 3, 0, 0, 0, 0, 0, 0, 2], [1, 0, 1, 0, 0, 0, 0, 0, 6, 7]], \"output\": [[0, 0, 0, 0, 0, 5, 7, 0, 0, 0], [0, 0, 0, 0, 0, 0, 2, 0, 0, 0], [0, 0, 0, 0, 0, 0, 3, 0, 0, 0], [0, 0, 8, 0, 0, 0, 0, 0, 0, 8], [7, 4, 7, 7, 0, 0, 0, 0, 0, 4], [0, 0, 0, 8, 0, 0, 7, 0, 0, 0], [0, 0, 0, 0, 9, 0, 0, 4, 0, 0], [5, 5, 0, 3, 0, 0, 6, 7, 0, 7], [0, 0, 3, 0, 0, 0, 0, 0, 0, 2], [1, 0, 1, 0, 0, 0, 0, 0, 6, 7]]}]}```\n"
     ]
    }
   ],
   "source": [
    "print(description.choices[0].text.strip())\n",
    "\n",
    "print('\\n', code)"
   ]
  },
  {
   "cell_type": "code",
   "execution_count": 10,
   "id": "b3d65c07",
   "metadata": {},
   "outputs": [
    {
     "data": {
      "text/plain": [
       "'Given the following description of a pattern, write a python script that will create a JSON file following the pattern.\\n                This JSON file will be given an input, you just have to generate the output and format the JSON file.\\n                The JSON file has the following syntax: {\"test\": [{\"input\": [...], \"output\": [...]}.\\n                \\n                meow meow meow{\\'test\\': [{\\'input\\': [[0, 0, 0, 0, 2, 5, 7, 0, 0, 0], [0, 0, 0, 5, 6, 0, 2, 0, 0, 0], [0, 0, 0, 0, 0, 0, 3, 0, 0, 0], [0, 0, 8, 0, 3, 0, 0, 0, 0, 8], [7, 4, 7, 7, 4, 0, 0, 0, 0, 4], [0, 0, 0, 8, 0, 0, 7, 0, 0, 0], [0, 0, 0, 0, 0, 9, 0, 4, 0, 0], [5, 5, 0, 3, 0, 0, 6, 7, 0, 7], [0, 0, 3, 0, 0, 0, 0, 0, 0, 2], [1, 0, 1, 0, 0, 0, 0, 0, 6, 7]]}]}'"
      ]
     },
     "execution_count": 10,
     "metadata": {},
     "output_type": "execute_result"
    }
   ],
   "source": [
    "def create_code(description, test_input):\n",
    "    prompt = \"\"\"Given the following description of a pattern, write a python script that will create a JSON file following the pattern.\n",
    "                This JSON file will be given an input, you just have to generate the output and format the JSON file.\n",
    "                The JSON file has the following syntax: {\"test\": [{\"input\": [...], \"output\": [...]}.\n",
    "                \n",
    "                \"\"\"\n",
    "    prompt += description\n",
    "    prompt += str(test_input)\n",
    "    \n",
    "    return prompt\n",
    "    \n",
    "create_code(\"meow meow meow\", {\"test\": [{\"input\": [[0, 0, 0, 0, 2, 5, 7, 0, 0, 0], [0, 0, 0, 5, 6, 0, 2, 0, 0, 0], [0, 0, 0, 0, 0, 0, 3, 0, 0, 0], [0, 0, 8, 0, 3, 0, 0, 0, 0, 8], [7, 4, 7, 7, 4, 0, 0, 0, 0, 4], [0, 0, 0, 8, 0, 0, 7, 0, 0, 0], [0, 0, 0, 0, 0, 9, 0, 4, 0, 0], [5, 5, 0, 3, 0, 0, 6, 7, 0, 7], [0, 0, 3, 0, 0, 0, 0, 0, 0, 2], [1, 0, 1, 0, 0, 0, 0, 0, 6, 7]]}]})"
   ]
  }
 ],
 "metadata": {
  "kernelspec": {
   "display_name": "Python 3 (ipykernel)",
   "language": "python",
   "name": "python3"
  },
  "language_info": {
   "codemirror_mode": {
    "name": "ipython",
    "version": 3
   },
   "file_extension": ".py",
   "mimetype": "text/x-python",
   "name": "python",
   "nbconvert_exporter": "python",
   "pygments_lexer": "ipython3",
   "version": "3.11.5"
  }
 },
 "nbformat": 4,
 "nbformat_minor": 5
}
